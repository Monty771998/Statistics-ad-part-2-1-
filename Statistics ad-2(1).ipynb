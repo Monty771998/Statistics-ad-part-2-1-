{
 "cells": [
  {
   "cell_type": "markdown",
   "id": "a615a653-7ba7-4952-b935-b18ec1d18d4c",
   "metadata": {},
   "source": [
    "Q1: What is the difference between a t-test and a z-test? Provide an example scenario where you would\n",
    "use each type of test."
   ]
  },
  {
   "cell_type": "markdown",
   "id": "321ca7df-9d77-4392-9b5b-34d0fa7f40ef",
   "metadata": {},
   "source": [
    "T-test-\n",
    "  1)Used when: Population standard deviation is unknown and sample size is small (typically less than 30).\n",
    "  2)Distribution: T-distribution.\n",
    "Example: Testing the average IQ of a small group of students.\n",
    "\n",
    "Z-test\n",
    "  1)Used when: Population standard deviation is known or sample size is large (typically greater than 30).\n",
    "  2)Distribution: Standard normal distribution (Z-distribution).\n",
    "Example: Testing the proportion of defective products in a large production batch where the population standard deviation is known.\n",
    "\n",
    "Example of T-test and Z-test-\n",
    "\n",
    "T-test\n",
    "Scenario: A researcher wants to determine if there is a significant difference in the average IQ scores between two small groups of students (n1 = 20, n2 = 25). Since the sample sizes are small and the population standard deviation is unknown, a t-test would be appropriate.\n",
    "\n",
    "Z-test\n",
    "Scenario: A quality control manager wants to determine if the proportion of defective products in a large production batch (n = 1000) is significantly different from the historical defect rate of 2%. Since the sample size is large, a z-test can be used, even if the population standard deviation is unknown (using the sample standard deviation as an approximation)."
   ]
  },
  {
   "cell_type": "code",
   "execution_count": null,
   "id": "eec2d306-b9e0-4c1b-a8ff-6e5e7445861c",
   "metadata": {},
   "outputs": [],
   "source": []
  },
  {
   "cell_type": "markdown",
   "id": "cd98acbd-a27e-4f7f-aa7f-4e832ff13353",
   "metadata": {},
   "source": [
    "Q2: Differentiate between one-tailed and two-tailed tests."
   ]
  },
  {
   "cell_type": "markdown",
   "id": "e4236dae-15b7-4391-9c45-91b365b04523",
   "metadata": {},
   "source": [
    "One-tailed test-\n",
    "  1)Alternative hypothesis specifies a direction: The researcher is interested in whether the parameter is greater than or   less than a specific value.\n",
    "  2)Critical region: Lies entirely in one tail of the distribution (left or right).\n",
    "  3)Example: Testing if a new drug decreases blood pressure.\n",
    "\n",
    "Two-tailed test\n",
    "  1)Alternative hypothesis does not specify a direction: The researcher is interested in whether the parameter is different from a specific value, without specifying whether it's greater or less.\n",
    "  2)Critical region: Lies in both tails of the distribution.\n",
    "  3)Example: Testing if there is a difference in average test scores between two groups."
   ]
  },
  {
   "cell_type": "code",
   "execution_count": null,
   "id": "357c363a-1a81-4ed2-9456-7e5167a8b1bd",
   "metadata": {},
   "outputs": [],
   "source": []
  },
  {
   "cell_type": "markdown",
   "id": "07d84560-b89b-424a-8a16-a3c921ab6dca",
   "metadata": {},
   "source": [
    "Q3: Explain the concept of Type 1 and Type 2 errors in hypothesis testing. Provide an example scenario for\n",
    "each type of error."
   ]
  },
  {
   "cell_type": "markdown",
   "id": "c3b47d32-de3b-4af2-8f44-ca35a24fd1a5",
   "metadata": {},
   "source": [
    "Type I Error\n",
    "   1)Definition: Rejecting a null hypothesis when it is actually true.\n",
    "   2)Also known as: False positive.\n",
    "   3)Example: A clinical trial concludes that a new drug is effective in treating a disease, but in reality, it has no effect.\n",
    "\n",
    "Type II Error\n",
    "   1)Definition: Failing to reject a null hypothesis when it is false.\n",
    "   2)Also known as: False negative.\n",
    "   3)Example: A clinical trial fails to find a significant difference in survival rates between two treatment groups, but one treatment is actually more effective."
   ]
  },
  {
   "cell_type": "code",
   "execution_count": null,
   "id": "1ed7bdc5-e716-42f2-b228-eb885e438cd2",
   "metadata": {},
   "outputs": [],
   "source": []
  },
  {
   "cell_type": "markdown",
   "id": "779610f3-2608-4159-ba24-1fdcab169178",
   "metadata": {},
   "source": [
    "Q4: Explain Bayes's theorem with an example."
   ]
  },
  {
   "cell_type": "markdown",
   "id": "ba37e9ee-4e22-4cf9-92a2-9ca8fde674b9",
   "metadata": {},
   "source": [
    "Bayes' theorem is a mathematical formula that calculates the probability of an event based on prior knowledge of conditions that might be related to the event. In simpler terms, it helps us update our beliefs about something based on new evidence.   \n",
    "\n",
    "Formula:\n",
    "\n",
    "P(A|B) = (P(B|A) * P(A)) / P(B)\n",
    "\n",
    "Where:\n",
    "\n",
    "P(A|B) is the probability of A given B (posterior probability)\n",
    "P(B|A) is the probability of B given A\n",
    "P(A) is the probability of A (prior probability)\n",
    "P(B) is the probability of B\n",
    "Example:\n",
    "\n",
    "Imagine a medical test for a disease. Let's say:\n",
    "\n",
    "P(Disease) = 0.01 (1% of the population has the disease)\n",
    "P(Positive Test | Disease) = 0.95 (95% chance of a positive test if you have the disease)\n",
    "P(Positive Test | No Disease) = 0.05 (5% chance of a false positive)\n",
    "If someone tests positive, we want to know the probability they actually have the disease. Using Bayes' theorem, we can calculate the probability of having the disease given a positive test result"
   ]
  },
  {
   "cell_type": "code",
   "execution_count": null,
   "id": "e86c2058-9a2f-427b-acfe-9e26b7946515",
   "metadata": {},
   "outputs": [],
   "source": []
  },
  {
   "cell_type": "markdown",
   "id": "c9106d20-d4b3-4c27-96de-42869073b8de",
   "metadata": {},
   "source": [
    "Q5: What is a confidence interval? How to calculate the confidence interval, explain with an example."
   ]
  },
  {
   "cell_type": "markdown",
   "id": "488b8d57-05d4-4f5f-8548-d6fea682b1a5",
   "metadata": {},
   "source": [
    "A confidence interval is a range of values within which we expect a population parameter to lie with a certain level of confidence. It is calculated based on sample data and provides a measure of uncertainty about the true population value.   \n",
    "\n",
    "Formula:\n",
    "\n",
    "Confidence Interval = Sample Mean ± (Critical Value * Standard Error)\n",
    "\n",
    "Sample Mean: The average of the sample data.\n",
    "Critical Value: Based on the desired confidence level (e.g., 1.96 for a 95% confidence level with a large sample size).\n",
    "Standard Error: Measures the variability of the sample mean.   \n",
    "Example:\n",
    "\n",
    "Suppose we want to estimate the average height of adult males in a city with 95% confidence. We take a random sample of 100 men, calculate the sample mean as 175 cm, and the sample standard deviation as 10 cm.\n",
    "\n",
    "Critical Value: For a 95% confidence level, the z-score is approximately 1.96.   \n",
    "Standard Error: Standard Error = Standard Deviation / sqrt(sample size) = 10 / sqrt(100) = 1\n",
    "Confidence Interval: 175 ± (1.96 * 1) = (173.04, 176.96)\n",
    "Therefore, we are 95% confident that the true average height of adult males in the city lies between 173.04 cm and 176.96 cm.\n",
    "\n",
    "Note: This example assumes a large sample size and uses a z-score. For small sample sizes, a t-distribution and t-score would be more appropriate."
   ]
  },
  {
   "cell_type": "code",
   "execution_count": null,
   "id": "0ba930ba-fe04-414d-b8d4-5313a4fa821e",
   "metadata": {},
   "outputs": [],
   "source": []
  },
  {
   "cell_type": "markdown",
   "id": "2d5d5c3b-4550-4d87-8fa4-cb340eac61b5",
   "metadata": {},
   "source": [
    "Q6. Use Bayes' Theorem to calculate the probability of an event occurring given prior knowledge of the\n",
    "event's probability and new evidence. Provide a sample problem and solution."
   ]
  },
  {
   "cell_type": "markdown",
   "id": "c139dcd5-f2c5-4f02-b1f7-501d4d2c70d1",
   "metadata": {},
   "source": [
    "Problem:\n",
    "\n",
    "A diagnostic test for a disease has a 95% accuracy rate for detecting the disease when it is present (true positive) and a 90% accuracy rate for correctly identifying healthy individuals (true negative). If 1% of the population has the disease, what is the probability that a person actually has the disease given a positive test result?\n",
    "\n",
    "Solution:\n",
    "\n",
    "Let's define the events:\n",
    "\n",
    "A: Person has the disease\n",
    "B: Test is positive\n",
    "Given:\n",
    "\n",
    "P(A) = 0.01 (1% prevalence of the disease)\n",
    "P(B|A) = 0.95 (probability of a positive test given the disease)\n",
    "P(B|A') = 0.10 (probability of a false positive)\n",
    "We want to find P(A|B), the probability of having the disease given a positive test.\n",
    "\n",
    "Using Bayes' theorem:\n",
    "\n",
    "P(A|B) = (P(B|A) * P(A)) / P(B)\n",
    "\n",
    "To calculate P(B), we use the law of total probability:\n",
    "P(B) = P(B|A) * P(A) + P(B|A') * P(A')\n",
    "= 0.95 * 0.01 + 0.10 * 0.99\n",
    "= 0.0194 + 0.099\n",
    "= 0.1184\n",
    "\n",
    "Now we can calculate P(A|B):\n",
    "P(A|B) = (0.95 * 0.01) / 0.1184 ≈ 0.0802\n",
    "\n",
    "Therefore, the probability that a person actually has the disease given a positive test result is approximately 8.02%. This demonstrates how Bayes' theorem helps adjust our belief about an event based on new evidence."
   ]
  },
  {
   "cell_type": "code",
   "execution_count": null,
   "id": "c5d23702-3d8d-40f1-b72a-00f456db7801",
   "metadata": {},
   "outputs": [],
   "source": []
  },
  {
   "cell_type": "markdown",
   "id": "e3bdfd6d-24d6-45ae-8fc2-c79d3e03e679",
   "metadata": {},
   "source": [
    "Q7. Calculate the 95% confidence interval for a sample of data with a mean of 50 and a standard deviation\n",
    "of 5. Interpret the results."
   ]
  },
  {
   "cell_type": "code",
   "execution_count": 1,
   "id": "106f6e34-149b-457a-bbc8-34059e00cc29",
   "metadata": {},
   "outputs": [
    {
     "name": "stdout",
     "output_type": "stream",
     "text": [
      "t statistic for significance level 0.050 for sample size of 50 is : 2.01\n",
      "The 95% confidence interval is (48.58, 51.42)\n"
     ]
    }
   ],
   "source": [
    "import math\n",
    "import scipy.stats as stats\n",
    "\n",
    "# Define the sample mean, standard deviation, and sample size\n",
    "sample_mean = 50\n",
    "sample_std_dev = 5\n",
    "sample_size = 50\n",
    "\n",
    "# Signficance Level\n",
    "ci=0.95\n",
    "alpha = 1-ci\n",
    "dof=sample_size-1\n",
    "\n",
    "# Calculate the critical value for a 95% confidence interval\n",
    "t_crit = stats.t.ppf(1-alpha/2, df=dof)\n",
    "print(f't statistic for significance level {alpha:.3f} for sample size of {sample_size} is : {t_crit:.2f}')\n",
    "\n",
    "# Calculate the standard error\n",
    "std_error = sample_std_dev / math.sqrt(sample_size)\n",
    "\n",
    "# Calculate the lower and upper bounds of the confidence interval\n",
    "lower_bound = sample_mean - t_crit * std_error\n",
    "upper_bound = sample_mean + t_crit * std_error\n",
    "\n",
    "# Print the results\n",
    "print(f\"The 95% confidence interval is ({lower_bound:.2f}, {upper_bound:.2f})\")"
   ]
  },
  {
   "cell_type": "code",
   "execution_count": null,
   "id": "af31a05d-e920-4916-b443-d58fbac639e2",
   "metadata": {},
   "outputs": [],
   "source": []
  },
  {
   "cell_type": "markdown",
   "id": "f0a4909c-9ee7-46be-b0b9-ceb4d24dde72",
   "metadata": {},
   "source": [
    "Q8. What is the margin of error in a confidence interval? How does sample size affect the margin of error?\n",
    "Provide an example of a scenario where a larger sample size would result in a smaller margin of error."
   ]
  },
  {
   "cell_type": "markdown",
   "id": "5737b072-0870-4e2f-9c0d-d2bead6aafc7",
   "metadata": {},
   "source": [
    "The margin of error in a confidence interval is the range of values around the sample statistic (such as the sample mean) within which we expect the true population parameter (such as the population mean) to lie with a certain level of confidence. The margin of error is affected by the sample size, level of confidence, and standard deviation of the population.\n",
    "\n",
    "As the sample size increases, the margin of error decreases because larger samples provide more information about the population, and hence the sample statistics are more likely to be representative of the population.\n",
    "\n",
    "The decrease in margin of error with an increase in sample size follows the square root law, which states that the margin of error decreases by the square root of the sample size.\n",
    "\n",
    "Suppose we want to estimate the average time spent by students studying for a particular exam. We take two samples, one with 50 students (Sample A) and another with 500 students (Sample B). We calculate the sample mean and standard deviation for each sample.\n",
    "\n",
    "Sample A: Sample Mean = 4 hours, Sample Standard Deviation = 1 hour, Sample Size (n) = 50\n",
    "Sample B: Sample Mean = 4 hours, Sample Standard Deviation = 1 hour, Sample Size (n) = 500\n",
    "\n",
    "Assuming a 95% confidence level, we can calculate the margin of error for each sample using the appropriate critical value (Z or t):\n",
    "\n",
    "For Sample A:\n",
    "\n",
    "Margin of Error = Z * (σ / √n) = Z * (1 / √50) ≈ 0.181 (Let's assume Z = 1.96 for a 95% confidence level.)\n",
    "\n",
    "For Sample B:\n",
    "\n",
    "Margin of Error = Z * (σ / √n) = Z * (1 / √500) ≈ 0.045 (Let's assume Z = 1.96 for a 95% confidence level.)\n",
    "\n",
    "From the example we notice the margin of error for Sample B (larger sample size) is significantly smaller than the margin of error for Sample A."
   ]
  },
  {
   "cell_type": "code",
   "execution_count": null,
   "id": "8c3bcce1-9fbb-4826-830b-c8cf5ad25ecb",
   "metadata": {},
   "outputs": [],
   "source": []
  },
  {
   "cell_type": "markdown",
   "id": "3d9de6ac-335e-4194-93c3-7cff501ffb80",
   "metadata": {},
   "source": [
    "Q9. Calculate the z-score for a data point with a value of 75, a population mean of 70, and a population\n",
    "standard deviation of 5. Interpret the results."
   ]
  },
  {
   "cell_type": "code",
   "execution_count": 2,
   "id": "6f77c841-fb27-42cb-82ce-9d3df722d44c",
   "metadata": {},
   "outputs": [
    {
     "name": "stdout",
     "output_type": "stream",
     "text": [
      "The Z score is  : 1.0\n"
     ]
    }
   ],
   "source": [
    "#For Z score \n",
    "x = 75\n",
    "pop_mean = 70\n",
    "pop_std = 5\n",
    "\n",
    "z = (x - pop_mean) / (pop_std)\n",
    "\n",
    "print(f\"The Z score is  : {z}\")"
   ]
  },
  {
   "cell_type": "code",
   "execution_count": null,
   "id": "57e43fec-68a3-430d-9581-bda7f328754b",
   "metadata": {},
   "outputs": [],
   "source": []
  },
  {
   "cell_type": "markdown",
   "id": "987f26c9-f51e-493e-80fe-37f8e76ce973",
   "metadata": {},
   "source": [
    "Q10. In a study of the effectiveness of a new weight loss drug, a sample of 50 participants lost an average\n",
    "of 6 pounds with a standard deviation of 2.5 pounds. Conduct a hypothesis test to determine if the drug is\n",
    "significantly effective at a 95% confidence level using a t-test."
   ]
  },
  {
   "cell_type": "code",
   "execution_count": 3,
   "id": "09b9ab51-8aa8-400d-afe5-4206ec771f66",
   "metadata": {},
   "outputs": [
    {
     "name": "stdout",
     "output_type": "stream",
     "text": [
      "t-statistic: 16.970562748477143\n",
      "p-value: 0.0\n",
      "Reject the null hypothesis. The drug is significantly effective on the body.\n"
     ]
    }
   ],
   "source": [
    "import math\n",
    "from scipy.stats import t\n",
    "\n",
    "null_hypothesis = \"The drug has no effect on the body\"\n",
    "alternate_hypothesis = \"The drug is significantly effective on the body\"\n",
    "\n",
    "mu = 0 #assumed to be 0 under null hypothesis\n",
    "sample_size =50 \n",
    "sample_mean=6\n",
    "sample_std = 2.5\n",
    "ci =0.95\n",
    "alpha = 1-ci\n",
    "dof = sample_size-1\n",
    "\n",
    "t_score = (sample_mean - mu) / (sample_std / math.sqrt(sample_size))\n",
    "p_value = 2 * (1 - t.cdf((t_score), df=dof))\n",
    "\n",
    "# Compare p-value with alpha and make a conclusion\n",
    "print(f\"t-statistic: {t_score}\")\n",
    "print(f\"p-value: {p_value}\")\n",
    "if p_value < alpha:\n",
    "    print(f\"Reject the null hypothesis. {alternate_hypothesis}.\")\n",
    "else:\n",
    "    print(f\"Fail to reject the null hypothesis. {null_hypothesis}.\")"
   ]
  },
  {
   "cell_type": "code",
   "execution_count": null,
   "id": "ef18c205-6fc5-4e8c-86b7-91a05858ba97",
   "metadata": {},
   "outputs": [],
   "source": []
  },
  {
   "cell_type": "markdown",
   "id": "70a61d74-f68c-4800-a98b-3910ba74bd8d",
   "metadata": {},
   "source": [
    "Q11. In a survey of 500 people, 65% reported being satisfied with their current job. Calculate the 95%\n",
    "confidence interval for the true proportion of people who are satisfied with their job."
   ]
  },
  {
   "cell_type": "code",
   "execution_count": 4,
   "id": "32346be0-d93a-4c7a-9474-bc1f20786482",
   "metadata": {},
   "outputs": [
    {
     "name": "stdout",
     "output_type": "stream",
     "text": [
      "For 95 % Confidence Interval the true proption Of people satisfied with thier job are (0.608 , 0.692)\n",
      "The pecentage proption of people satisifed with thier job are ( 60.819% , 69.181% )\n"
     ]
    }
   ],
   "source": [
    "'''The formula for the confidence interval for a population proportion is:\n",
    "\n",
    "Confidence Interval = Sample Proportion ± Z * √(Sample Proportion * (1 - Sample Proportion) / Sample Size)\n",
    "\n",
    "Where:\n",
    "\n",
    "Sample Proportion (p̂): The proportion of people in the sample who reported being satisfied with their job. \n",
    "In this case, it is 65%, which can be expressed as 0.65.\n",
    "Z: The critical value from the standard normal distribution corresponding to the desired confidence level. \n",
    "For a 95% confidence level, Z is approximately 1.96.\n",
    "Sample Size (n): The number of people in the survey. '''\n",
    "    \n",
    "n = 500\n",
    "p=0.65\n",
    "z = 1.96 #for 95% ci\n",
    "\n",
    "ci_upper = p + z * math.sqrt(p*(1-p)/n)\n",
    "ci_lower = p - z * math.sqrt(p*(1-p)/n)\n",
    "\n",
    "print(f\"For 95 % Confidence Interval the true proption Of people satisfied with thier job are ({ci_lower:.3f} , {ci_upper:.3f})\")\n",
    "print(f\"The pecentage proption of people satisifed with thier job are ( {ci_lower*100:.3f}% , {ci_upper*100:.3f}% )\")"
   ]
  },
  {
   "cell_type": "code",
   "execution_count": null,
   "id": "68fb91da-111d-44fb-8f72-ca39c7bedadd",
   "metadata": {},
   "outputs": [],
   "source": []
  },
  {
   "cell_type": "markdown",
   "id": "b996e1a7-44f3-4c4d-9e97-d35ff517cd6f",
   "metadata": {},
   "source": [
    "Q12. A researcher is testing the effectiveness of two different teaching methods on student performance.\n",
    "Sample A has a mean score of 85 with a standard deviation of 6, while sample B has a mean score of 82\n",
    "with a standard deviation of 5. Conduct a hypothesis test to determine if the two teaching methods have a\n",
    "significant difference in student performance using a t-test with a significance level of 0.01."
   ]
  },
  {
   "cell_type": "code",
   "execution_count": 6,
   "id": "06a7d5c6-0c49-4a6a-a606-e9f313964883",
   "metadata": {},
   "outputs": [
    {
     "name": "stdout",
     "output_type": "stream",
     "text": [
      "t-statistic: 2.104\n",
      "Critical t-value: 2.663\n",
      "p-value: 0.040\n",
      "Fail to reject null hypothesis.\n",
      "Final Conclusion :  The teaching methods of A and B do not have a significant difference in student performance\n"
     ]
    }
   ],
   "source": [
    "import math\n",
    "from scipy.stats import t\n",
    "null_hypothesis = \"The teaching methods of A and B do not have a significant difference in student performance\"\n",
    "# null hypothesis μA - μB = 0 \n",
    "alternate_hypothesis = \"The teaching methods of A and B have a significant difference in student performance\"\n",
    "#alternate hypothesis μA - μB ≠ 0.\n",
    "\n",
    "#Sample A\n",
    "mean1 =85\n",
    "std1 =6\n",
    "\n",
    "#Sample B\n",
    "mean2=82\n",
    "std2=5\n",
    "\n",
    "alpha =0.01\n",
    "#since sample sizes of a and b are not given assuming both are 30 and equal\n",
    "n1 = 30\n",
    "n2 = 30\n",
    "#degree of freedom\n",
    "df = n1 + n2 -2\n",
    "\n",
    "#Pooled Standard Error = √[( (Sample A Standard Deviation)^2 / Sample A Size) + ( (Sample B Standard Deviation)^2 / Sample B Size )]\n",
    "# Calculate pooled standard deviation\n",
    "sp = math.sqrt(((std1 ** 2) / n1) + ((std2 ** 2) / n2))\n",
    "\n",
    "# Calculate t-statistic\n",
    "#t = (Sample A Mean - Sample B Mean) / Pooled Standard Error\n",
    "t_stat = (mean1 - mean2) / sp\n",
    "\n",
    "# Calculate critical t-value\n",
    "t_crit = t.ppf(1-alpha / 2, df)\n",
    "\n",
    "# Calculate p-value\n",
    "p_value = 2 * (1 - t.cdf(t_stat, df))\n",
    "\n",
    "# Print results\n",
    "print(f\"t-statistic: {t_stat:.3f}\")\n",
    "print(f\"Critical t-value: {t_crit:.3f}\")\n",
    "print(f\"p-value: {p_value:.3f}\")\n",
    "\n",
    "if abs(t_stat) > t_crit:\n",
    "    print(\"Reject null hypothesis.\")\n",
    "    print(\"Final Conclusion : \",alternate_hypothesis)\n",
    "else:\n",
    "    print(\"Fail to reject null hypothesis.\")\n",
    "    print(\"Final Conclusion : \" ,null_hypothesis)"
   ]
  },
  {
   "cell_type": "code",
   "execution_count": null,
   "id": "219cf21a-262a-4936-b74e-a6d4568ecdb0",
   "metadata": {},
   "outputs": [],
   "source": []
  },
  {
   "cell_type": "markdown",
   "id": "78384af4-7c12-4d4b-87a6-894b73dd1421",
   "metadata": {},
   "source": [
    "Q13. A population has a mean of 60 and a standard deviation of 8. A sample of 50 observations has a mean\n",
    "of 65. Calculate the 90% confidence interval for the true population mean."
   ]
  },
  {
   "cell_type": "code",
   "execution_count": 7,
   "id": "48264efe-d241-4101-a62b-e9f0fcc294e0",
   "metadata": {},
   "outputs": [
    {
     "name": "stdout",
     "output_type": "stream",
     "text": [
      "Z - Value : 1.6448536269514722\n",
      "90% Confidence Interval: (63.139, 66.861)\n"
     ]
    }
   ],
   "source": [
    "from scipy.stats import norm\n",
    "import math\n",
    "\n",
    "pop_mean = 60\n",
    "pop_std =8\n",
    "n=50\n",
    "sample_mean=65\n",
    "ci =0.90\n",
    "alpha =1-ci\n",
    "\n",
    "z_critical = norm.ppf(1 - (1 - ci) / 2)\n",
    "\n",
    "margin_of_error = z_critical*(pop_std/math.sqrt(n))\n",
    "\n",
    "# Calculate the lower and upper bounds of the confidence interval\n",
    "lower_bound = sample_mean - margin_of_error\n",
    "upper_bound = sample_mean + margin_of_error\n",
    "\n",
    "\n",
    "print(\"Z - Value :\",z_critical)\n",
    "print(f\"90% Confidence Interval: ({lower_bound:.3f}, {upper_bound:.3f})\")"
   ]
  },
  {
   "cell_type": "code",
   "execution_count": null,
   "id": "77bb9095-cb7a-473e-9716-f31b37b973ee",
   "metadata": {},
   "outputs": [],
   "source": []
  },
  {
   "cell_type": "markdown",
   "id": "859105d0-fdfe-48cf-af18-e853a622f08a",
   "metadata": {},
   "source": [
    "Q14. In a study of the effects of caffeine on reaction time, a sample of 30 participants had an average\n",
    "reaction time of 0.25 seconds with a standard deviation of 0.05 seconds. Conduct a hypothesis test to\n",
    "determine if the caffeine has a significant effect on reaction time at a 90% confidence level using a t-test."
   ]
  },
  {
   "cell_type": "code",
   "execution_count": 8,
   "id": "e795e7e8-468e-40f9-93ed-c7b877616790",
   "metadata": {},
   "outputs": [
    {
     "name": "stdout",
     "output_type": "stream",
     "text": [
      "t-statistic :  0.0\n",
      "t-critical :  1.6991270265334972\n",
      "At 90% Confidence Interval the bounds are : ( 0.2344891633250154 , 0.2655108366749846 )\n",
      "Failed to Reject the null hypothesis\n",
      "Final Conculsion :  Caffiene has no significant effect on reaction time equal to 0.25 sec\n"
     ]
    }
   ],
   "source": [
    "import math\n",
    "from scipy.stats import t\n",
    "\n",
    "null_hypothesis = \"Caffiene has no significant effect on reaction time equal to 0.25 sec\"\n",
    "alternate_hypothesis = \"Caffiene has significant effect on reaction time equal to 0.25 sec\"\n",
    "n=30\n",
    "sample_mean=0.25\n",
    "sample_std=0.05\n",
    "pop_mean = 0.25 #from null hypothesis\n",
    "ci = 0.90\n",
    "alpha = 1-ci\n",
    "df = n-1\n",
    "\n",
    "#t = (Sample Mean - Population Mean) / (Sample Standard Deviation / √Sample Size)\n",
    "t_stat = (sample_mean - pop_mean)/(sample_std/math.sqrt(n))\n",
    "\n",
    "# Calculate the critical t-value\n",
    "t_crit = stats.t.ppf(1-alpha/2,df)\n",
    "\n",
    "# Calculate the confidence interval\n",
    "margin_of_error = t_crit * (sample_std / math.sqrt(n))\n",
    "lower_ci = sample_mean - margin_of_error\n",
    "upper_ci = sample_mean + margin_of_error\n",
    "\n",
    "print(\"t-statistic : \",t_stat)\n",
    "print(\"t-critical : \",t_crit)\n",
    "print(f\"At 90% Confidence Interval the bounds are : ( {lower_ci} , {upper_ci} )\" )\n",
    "\n",
    "if t_stat > t_crit:\n",
    "    print(\"Reject the null hypothesis\")\n",
    "    print(\"Final Conculsion : \",alternate_hypothesis)\n",
    "    \n",
    "else:\n",
    "    print(\"Failed to Reject the null hypothesis\")\n",
    "    print(\"Final Conculsion : \",null_hypothesis)"
   ]
  },
  {
   "cell_type": "code",
   "execution_count": null,
   "id": "915c1fee-b91d-447e-8540-5bb847c6136e",
   "metadata": {},
   "outputs": [],
   "source": []
  },
  {
   "cell_type": "code",
   "execution_count": null,
   "id": "420a6bf7-67f9-4977-9f71-5f920c99386c",
   "metadata": {},
   "outputs": [],
   "source": []
  },
  {
   "cell_type": "code",
   "execution_count": null,
   "id": "cefa3d2e-778d-4a22-8951-26565824f255",
   "metadata": {},
   "outputs": [],
   "source": []
  },
  {
   "cell_type": "code",
   "execution_count": null,
   "id": "0c683c37-33eb-445a-a1aa-e88d931bd2f5",
   "metadata": {},
   "outputs": [],
   "source": []
  },
  {
   "cell_type": "code",
   "execution_count": null,
   "id": "041bf02c-e8ea-41fa-9353-53608d4f4f1f",
   "metadata": {},
   "outputs": [],
   "source": []
  },
  {
   "cell_type": "code",
   "execution_count": null,
   "id": "3562a2cc-dd92-4ece-bc21-8950226eb14f",
   "metadata": {},
   "outputs": [],
   "source": []
  },
  {
   "cell_type": "code",
   "execution_count": null,
   "id": "224b4b5f-a945-4e2d-8296-86e31121b04c",
   "metadata": {},
   "outputs": [],
   "source": []
  },
  {
   "cell_type": "code",
   "execution_count": null,
   "id": "4c9e8482-839e-4ff5-af5e-ff5e487ca303",
   "metadata": {},
   "outputs": [],
   "source": []
  },
  {
   "cell_type": "code",
   "execution_count": null,
   "id": "f345d2b4-befa-491f-bbad-499572b71941",
   "metadata": {},
   "outputs": [],
   "source": []
  },
  {
   "cell_type": "code",
   "execution_count": null,
   "id": "693a340b-4c60-4061-8592-a2375630424d",
   "metadata": {},
   "outputs": [],
   "source": []
  },
  {
   "cell_type": "code",
   "execution_count": null,
   "id": "f59977cd-2a43-4270-9e6b-43cd3c89a67a",
   "metadata": {},
   "outputs": [],
   "source": []
  },
  {
   "cell_type": "code",
   "execution_count": null,
   "id": "a6dfba5b-0a53-482b-a1ba-0ebdbdaa2207",
   "metadata": {},
   "outputs": [],
   "source": []
  }
 ],
 "metadata": {
  "kernelspec": {
   "display_name": "Python 3 (ipykernel)",
   "language": "python",
   "name": "python3"
  },
  "language_info": {
   "codemirror_mode": {
    "name": "ipython",
    "version": 3
   },
   "file_extension": ".py",
   "mimetype": "text/x-python",
   "name": "python",
   "nbconvert_exporter": "python",
   "pygments_lexer": "ipython3",
   "version": "3.10.8"
  }
 },
 "nbformat": 4,
 "nbformat_minor": 5
}
